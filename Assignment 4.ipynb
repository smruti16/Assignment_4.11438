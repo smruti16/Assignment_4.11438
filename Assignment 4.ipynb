{
 "cells": [
  {
   "cell_type": "markdown",
   "metadata": {},
   "source": [
    "Write a Python Program(with class concepts) to find the area of the triangle using the below\n",
    "formula.\n",
    "area = (s*(s-a)*(s-b)*(s-c)) ** 0.5\n",
    "Function to take the length of the sides of triangle from user should be defined in the parent\n",
    "class and function to calculate the area should be defined in subclass."
   ]
  },
  {
   "cell_type": "code",
   "execution_count": 55,
   "metadata": {
    "ExecuteTime": {
     "end_time": "2018-07-06T09:35:55.477031Z",
     "start_time": "2018-07-06T09:35:39.004642Z"
    }
   },
   "outputs": [
    {
     "name": "stdout",
     "output_type": "stream",
     "text": [
      "Enter the value of side 1: 5\n",
      "Enter the value of side 2: 6\n",
      "Enter the value of side 3: 7\n",
      "Area of the triangle 4.898979485566356\n"
     ]
    }
   ],
   "source": [
    "class Triangle:\n",
    "    def __init__(self,side1,side2,side3):\n",
    "        self.side1=side1\n",
    "        self.side2=side2\n",
    "        self.side3=side3\n",
    "    \n",
    "    def area(self):\n",
    "        s=(self.side1+self.side2+self.side3)/2\n",
    "        return ((s-self.side1)*(s-self.side2)*(s-self.side3))**0.5\n",
    "\n",
    "a=float(input('Enter the value of side 1: '))\n",
    "b=float(input('Enter the value of side 2: '))\n",
    "c=float(input('Enter the value of side 3: '))\n",
    "print('Area of the triangle',Triangle(a,b,c).area())"
   ]
  },
  {
   "cell_type": "code",
   "execution_count": null,
   "metadata": {},
   "outputs": [],
   "source": []
  },
  {
   "cell_type": "markdown",
   "metadata": {},
   "source": [
    "Write a function filter_long_words() that takes a list of words and an integer n and returns the list\n",
    "of words that are longer than n."
   ]
  },
  {
   "cell_type": "code",
   "execution_count": 56,
   "metadata": {
    "ExecuteTime": {
     "end_time": "2018-07-06T09:36:09.711439Z",
     "start_time": "2018-07-06T09:36:09.704440Z"
    }
   },
   "outputs": [],
   "source": [
    "def filter_long_words(string,integer):\n",
    "    wordlist=[]\n",
    "    for i in string.split():\n",
    "        if len(i)>integer:\n",
    "            wordlist.append(i)\n",
    "    return wordlist"
   ]
  },
  {
   "cell_type": "code",
   "execution_count": 57,
   "metadata": {
    "ExecuteTime": {
     "end_time": "2018-07-06T09:36:10.169701Z",
     "start_time": "2018-07-06T09:36:10.164705Z"
    },
    "scrolled": true
   },
   "outputs": [
    {
     "data": {
      "text/plain": [
       "['kjasldj', 'JDLKDJ', 'LJFSJFSL']"
      ]
     },
     "execution_count": 57,
     "metadata": {},
     "output_type": "execute_result"
    }
   ],
   "source": [
    "filter_long_words('kjasldj JDLKDJ LJFSJFSL ODJO ojsdf jodfj',5)"
   ]
  },
  {
   "cell_type": "code",
   "execution_count": null,
   "metadata": {},
   "outputs": [],
   "source": []
  },
  {
   "cell_type": "markdown",
   "metadata": {},
   "source": [
    "Write a Python program using function concept that maps list of words into a list of integers\n",
    "representing the lengths of the corresponding words."
   ]
  },
  {
   "cell_type": "code",
   "execution_count": 58,
   "metadata": {
    "ExecuteTime": {
     "end_time": "2018-07-06T09:36:13.007818Z",
     "start_time": "2018-07-06T09:36:13.003820Z"
    }
   },
   "outputs": [],
   "source": [
    "# Method 1\n",
    "def maps_list_of_words(x):\n",
    "    return map(len(x),x)"
   ]
  },
  {
   "cell_type": "code",
   "execution_count": 59,
   "metadata": {
    "ExecuteTime": {
     "end_time": "2018-07-06T09:36:13.580643Z",
     "start_time": "2018-07-06T09:36:13.575646Z"
    }
   },
   "outputs": [],
   "source": [
    "# Method 2\n",
    "def maps_list_of_words2(x):\n",
    "    y=[]\n",
    "    for i in x:\n",
    "        y.append(len(x))\n",
    "        return y"
   ]
  },
  {
   "cell_type": "code",
   "execution_count": null,
   "metadata": {},
   "outputs": [],
   "source": []
  },
  {
   "cell_type": "markdown",
   "metadata": {
    "ExecuteTime": {
     "end_time": "2018-06-29T16:18:08.003380Z",
     "start_time": "2018-06-29T16:18:07.991368Z"
    }
   },
   "source": [
    "Write a Python function which takes a character (i.e. a string of length 1) and returns True if it is\n",
    "a vowel, False otherwise."
   ]
  },
  {
   "cell_type": "code",
   "execution_count": 60,
   "metadata": {
    "ExecuteTime": {
     "end_time": "2018-07-06T09:36:16.271707Z",
     "start_time": "2018-07-06T09:36:16.265693Z"
    }
   },
   "outputs": [],
   "source": [
    "def vowel_or_not(x):\n",
    "    vowels=['a','e','i','o','u']\n",
    "    if x in vowels:\n",
    "        return True\n",
    "    return False"
   ]
  },
  {
   "cell_type": "code",
   "execution_count": null,
   "metadata": {},
   "outputs": [],
   "source": []
  },
  {
   "cell_type": "code",
   "execution_count": null,
   "metadata": {},
   "outputs": [],
   "source": []
  }
 ],
 "metadata": {
  "kernelspec": {
   "display_name": "Python 3",
   "language": "python",
   "name": "python3"
  },
  "language_info": {
   "codemirror_mode": {
    "name": "ipython",
    "version": 3
   },
   "file_extension": ".py",
   "mimetype": "text/x-python",
   "name": "python",
   "nbconvert_exporter": "python",
   "pygments_lexer": "ipython3",
   "version": "3.6.4"
  }
 },
 "nbformat": 4,
 "nbformat_minor": 2
}
